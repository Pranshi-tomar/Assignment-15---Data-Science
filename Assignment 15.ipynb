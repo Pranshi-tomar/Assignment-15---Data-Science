{
 "cells": [
  {
   "attachments": {},
   "cell_type": "markdown",
   "metadata": {},
   "source": [
    "Q1. What is multithreading in python? Why is it used? Name the module used to handle threads in python."
   ]
  },
  {
   "attachments": {},
   "cell_type": "markdown",
   "metadata": {},
   "source": [
    "Ans. Multithreading in Python refers to the ability of a program to execute multiple threads concurrently within a single process. A thread is a separate flow of execution that can run independently, allowing different parts of a program to execute simultaneously.\n",
    "\n",
    "Multithreading is used in Python to achieve parallelism and concurrency. It can be beneficial in the following scenarios:\n",
    "\n",
    "1. Improved performance: Multithreading can help speed up the execution of certain tasks by utilizing the available CPU cores more efficiently. It allows for concurrent execution of multiple threads, thereby potentially reducing the overall execution time.\n",
    "\n",
    "2. Responsiveness: Multithreading can be used to keep the user interface responsive while performing time-consuming operations in the background. By running computationally intensive or blocking operations in separate threads, the main thread remains free to handle user input and update the UI.\n",
    "\n",
    "3. Asynchronous operations: Multithreading is useful for performing I/O-bound operations asynchronously. By delegating I/O operations to separate threads, the main thread can continue with other tasks without waiting for the completion of I/O operations, thereby improving overall efficiency.\n",
    "\n",
    "The module used to handle threads in Python is called threading. It provides a high-level interface to create and manage threads. The threading module allows you to create, start, and stop threads, synchronize their execution, and share data between threads using various synchronization primitives such as locks, conditions, and semaphores. "
   ]
  },
  {
   "attachments": {},
   "cell_type": "markdown",
   "metadata": {},
   "source": [
    "Q2. Why threading module used? Write the use of the following functions\n",
    "( activeCount , currentThread , enumerate)"
   ]
  },
  {
   "attachments": {},
   "cell_type": "markdown",
   "metadata": {},
   "source": [
    "Ans. The threading module in Python is used for creating and managing threads. It provides a high-level interface to work with threads, allowing you to create concurrent and parallel programs.\n",
    "activeCount(): This function returns the number of Thread objects currently alive. It counts the number of threads that are currently in the \"alive\" state, meaning they have been started and have not yet terminated.\n",
    "\n",
    "1. activeCount(): This function returns the number of Thread objects currently alive. It counts the number of threads that are currently in the \"alive\" state, meaning they have been started and have not yet terminated.\n",
    "\n",
    "2. currentThread(): This function returns the currently executing Thread object. It returns a reference to the Thread object representing the thread from which it is called.\n",
    "\n",
    "3. enumerate(): This function returns a list of all Thread objects currently alive. It returns a list that contains references to all the active Thread objects in the current program.\n",
    "\n",
    "These functions provide useful information and allow you to interact with threads in the threading module"
   ]
  },
  {
   "attachments": {},
   "cell_type": "markdown",
   "metadata": {},
   "source": [
    "3. Explain the following functions\n",
    "( run , start , join , isAlive)"
   ]
  },
  {
   "attachments": {},
   "cell_type": "markdown",
   "metadata": {},
   "source": [
    "Ans. \n",
    "1. run(): The run() method is the entry point for the thread's activity. It contains the code that will be executed when the thread starts running. You need to subclass the Thread class from the threading module and override the run() method with your custom logic. When you call the start() method on a Thread object, it internally calls the run() method to execute the thread's code.\n",
    "\n",
    "2. start(): The start() method is used to start the execution of a thread. It initializes the thread, calls the run() method, and begins the concurrent execution of the thread's code. You should call the start() method on a Thread object to initiate the thread's execution. Note that you should not call the run() method directly; use start() instead.\n",
    "\n",
    "3. join(): The join() method is used to wait for a thread to complete its execution. When you call join() on a Thread object, it blocks the calling thread until the specified thread terminates. This is useful when you want to ensure that a thread has finished executing before proceeding with further operations.\n",
    "\n",
    "4. isAlive(): The isAlive() method is used to check whether a thread is currently executing or not. It returns a boolean value indicating the thread's status. If the thread has started and not yet terminated, isAlive() returns True; otherwise, it returns False."
   ]
  },
  {
   "attachments": {},
   "cell_type": "markdown",
   "metadata": {},
   "source": [
    "Q5. State advantages and disadvantages of multithreading"
   ]
  },
  {
   "attachments": {},
   "cell_type": "markdown",
   "metadata": {},
   "source": [
    "Ans. Advantages of Multithreading:\n",
    "\n",
    "Improved Performance: Multithreading allows for the concurrent execution of multiple threads within a single process. This can lead to improved performance, especially in scenarios where there are multiple CPU-bound or I/O-bound tasks. By utilizing available CPU cores more efficiently, multithreading can enhance overall program execution speed.\n",
    "\n",
    "Responsiveness and Interactivity: Multithreading can help maintain the responsiveness of an application or user interface (UI). By offloading time-consuming tasks to separate threads, the main thread remains free to handle user input and update the UI, ensuring a smooth and interactive user experience.\n",
    "\n",
    "Resource Sharing: Threads within the same process share the same memory space, allowing them to easily share data and communicate with each other. This enables efficient data exchange and synchronization between threads, reducing the need for complex inter-process communication mechanisms.\n",
    "\n",
    "Disadvantages of Multithreading:\n",
    "\n",
    "Increased Complexity: Multithreaded programs can be more challenging to design, implement, and debug compared to single-threaded programs. Dealing with issues such as race conditions, synchronization, and thread safety requires careful consideration and can introduce complexity and potential bugs.\n",
    "\n",
    "Synchronization Overhead: When multiple threads access shared resources concurrently, synchronization mechanisms like locks or semaphores must be employed to ensure thread safety. This introduces additional overhead and can impact performance, especially if synchronization is not implemented optimally.\n",
    "\n",
    "Increased Memory Usage: Each thread in a multithreaded program requires its own stack and thread-specific resources. As the number of threads increases, so does the memory footprint of the program. Excessive creation of threads or large thread pools can lead to increased memory usage and potential resource exhaustion.\n",
    "\n"
   ]
  },
  {
   "attachments": {},
   "cell_type": "markdown",
   "metadata": {},
   "source": [
    "Q6. Explain deadlocks and race conditions."
   ]
  },
  {
   "attachments": {},
   "cell_type": "markdown",
   "metadata": {},
   "source": [
    "Ans. Deadlock:\n",
    "Deadlock is a situation where two or more threads are blocked forever, waiting for each other to release resources. In other words, each thread holds a resource that the other thread needs, resulting in a circular dependency and a standstill in program execution. Deadlocks can occur due to the following four conditions being satisfied simultaneously:\n",
    "\n",
    "Mutual Exclusion: Each resource can only be held by one thread at a time.\n",
    "Hold and Wait: A thread holds at least one resource while waiting to acquire another.\n",
    "No Preemption: Resources cannot be forcibly taken away from a thread; they can only be released voluntarily.\n",
    "Circular Wait: There is a circular chain of threads, where each thread is waiting for a resource held by another thread in the chain.\n",
    "\n",
    "Race Condition:\n",
    "A race condition occurs when multiple threads access shared data concurrently, and the final outcome of the program depends on the relative order of their execution. Race conditions can lead to unexpected and incorrect behavior, as the result may vary depending on the timing and interleaving of thread execution.\n",
    "\n",
    "Race conditions typically arise when threads perform non-atomic operations on shared data without proper synchronization. Non-atomic operations are operations that are not indivisible, meaning they can be interrupted by other threads. Without appropriate synchronization mechanisms such as locks or semaphores, the interleaved execution of threads can lead to data inconsistencies or corruption."
   ]
  },
  {
   "attachments": {},
   "cell_type": "markdown",
   "metadata": {},
   "source": [
    "4. Write a python program to create two threads. Thread one must print the list of squares and thread\n",
    "two must print the list of cubes"
   ]
  },
  {
   "cell_type": "code",
   "execution_count": 2,
   "metadata": {},
   "outputs": [
    {
     "name": "stdout",
     "output_type": "stream",
     "text": [
      "cube ;125\n",
      "square ;25\n"
     ]
    }
   ],
   "source": [
    "import multiprocessing\n",
    "def print_cube(num):\n",
    "    print(\"cube ;{}\".format(num*num*num))\n",
    "def print_square(num):\n",
    "    print(\"square ;{}\".format(num*num))\n",
    "if __name__ == \"__main__\":\n",
    "    m=multiprocessing.Process(target=print_cube)\n",
    "    m1=multiprocessing.Process(target=print_square)\n",
    "    m.start()\n",
    "    m.join()\n",
    "    m1.start()\n",
    "    m1.join()\n",
    "\n",
    "print_cube(5)\n",
    "print_square(5)"
   ]
  }
 ],
 "metadata": {
  "kernelspec": {
   "display_name": "Python 3",
   "language": "python",
   "name": "python3"
  },
  "language_info": {
   "codemirror_mode": {
    "name": "ipython",
    "version": 3
   },
   "file_extension": ".py",
   "mimetype": "text/x-python",
   "name": "python",
   "nbconvert_exporter": "python",
   "pygments_lexer": "ipython3",
   "version": "3.10.0"
  },
  "orig_nbformat": 4
 },
 "nbformat": 4,
 "nbformat_minor": 2
}
